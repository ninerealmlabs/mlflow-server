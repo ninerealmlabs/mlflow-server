{
 "cells": [
  {
   "cell_type": "code",
   "execution_count": null,
   "metadata": {},
   "outputs": [],
   "source": [
    "import json\n",
    "import logging\n",
    "import os\n",
    "from pathlib import Path\n",
    "import subprocess\n",
    "import sys\n",
    "\n",
    "from dotenv import load_dotenv\n",
    "from IPython.display import Markdown, display\n",
    "import mlflow\n",
    "from mlflow import MlflowClient, MlflowException\n",
    "from mlflow.deployments import get_deploy_client\n",
    "from mlflow.models.signature import ModelSignature\n",
    "from mlflow.types.schema import ColSpec, ParamSchema, ParamSpec, Schema"
   ]
  },
  {
   "cell_type": "code",
   "execution_count": null,
   "metadata": {},
   "outputs": [],
   "source": [
    "try:\n",
    "    __file__  # NOQA: B018\n",
    "except NameError:\n",
    "    __file__ = __vsc_ipynb_file__  # NOQA: F821 # works for ipynb in vscode\n",
    "\n",
    "repo = subprocess.check_output(  # NOQA: S603\n",
    "    [\"git\", \"rev-parse\", \"--show-toplevel\"],  # NOQA: S607\n",
    "    cwd=Path(__file__).parent,\n",
    "    encoding=\"utf-8\",\n",
    ").strip()\n",
    "repo = Path(repo).resolve()\n",
    "\n",
    "datadir = Path(__file__).parent / \"data\""
   ]
  },
  {
   "cell_type": "code",
   "execution_count": null,
   "metadata": {},
   "outputs": [],
   "source": [
    "LOG_FMT = \"%(asctime)s - %(levelname)-8s - %(name)s - %(funcName)s:%(lineno)d - %(message)s\"\n",
    "\n",
    "logging.basicConfig(format=LOG_FMT)\n",
    "logger = logging.getLogger(__name__)\n",
    "logger.setLevel(logging.DEBUG)\n",
    "logging.getLogger(\"src\").setLevel(logging.DEBUG)\n",
    "logging.getLogger(\"mlflow\").setLevel(logging.DEBUG)"
   ]
  },
  {
   "cell_type": "code",
   "execution_count": null,
   "metadata": {},
   "outputs": [],
   "source": [
    "config = {\"d\": \"docker\", \"k\": \"kubernetes\"}[\n",
    "    input(prompt=\"What configuration are we testing [docker, hybrid, kubernetes]: \").lower()[0]\n",
    "]\n",
    "\n",
    "if config == \"docker\":\n",
    "    _ = load_dotenv(repo / \"quickstart\" / \".env\", override=True)\n",
    "    os.environ[\"MLFLOW_TRACKING_URI\"] = \"http://localhost:5555\"\n",
    "    # os.environ[\"MLFLOW_S3_ENDPOINT_URL\"] = \"http://localhost:9000\"\n",
    "\n",
    "elif config == \"kubernetes\":\n",
    "    _ = load_dotenv(repo / \".env\", override=True)\n",
    "\n",
    "\n",
    "print(f\"env vars for {config=}:\")\n",
    "print(os.environ[\"MLFLOW_TRACKING_URI\"])\n",
    "# print(os.environ[\"MLFLOW_S3_ENDPOINT_URL\"])\n",
    "# print(os.environ[\"AWS_ACCESS_KEY_ID\"])\n",
    "# print(os.environ[\"AWS_SECRET_ACCESS_KEY\"])"
   ]
  },
  {
   "cell_type": "code",
   "execution_count": null,
   "metadata": {},
   "outputs": [],
   "source": [
    "mlflow.set_tracking_uri(uri=os.environ[\"MLFLOW_TRACKING_URI\"])\n",
    "\n",
    "mlflow_experiment = \"test-mlflow\"\n",
    "try:\n",
    "    mlflow.set_experiment(mlflow_experiment)\n",
    "except MlflowException:\n",
    "    mlflow.create_experiment(mlflow_experiment)\n",
    "    mlflow.set_experiment(mlflow_experiment)\n",
    "print(mlflow.doctor())"
   ]
  },
  {
   "cell_type": "code",
   "execution_count": null,
   "metadata": {},
   "outputs": [],
   "source": [
    "# mlflow.end_run()\n",
    "with mlflow.start_run():\n",
    "    print(mlflow.get_artifact_uri())\n",
    "    mlflow.log_artifact(__file__)"
   ]
  },
  {
   "cell_type": "code",
   "execution_count": null,
   "metadata": {},
   "outputs": [],
   "source": []
  }
 ],
 "metadata": {
  "kernelspec": {
   "display_name": ".venv",
   "language": "python",
   "name": "python3"
  },
  "language_info": {
   "codemirror_mode": {
    "name": "ipython",
    "version": 3
   },
   "file_extension": ".py",
   "mimetype": "text/x-python",
   "name": "python",
   "nbconvert_exporter": "python",
   "pygments_lexer": "ipython3",
   "version": "3.11.9"
  }
 },
 "nbformat": 4,
 "nbformat_minor": 2
}
